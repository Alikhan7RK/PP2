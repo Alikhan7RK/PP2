{
 "cells": [
  {
   "cell_type": "code",
   "execution_count": 2,
   "id": "2552c3bf-9002-4f63-93f4-2a5000a4a4d2",
   "metadata": {},
   "outputs": [
    {
     "name": "stdin",
     "output_type": "stream",
     "text": [
      "Enter numbers:  1 2 3 4 5\n"
     ]
    },
    {
     "name": "stdout",
     "output_type": "stream",
     "text": [
      "120\n"
     ]
    }
   ],
   "source": [
    "#1\n",
    "a = input(\"Enter numbers: \")\n",
    "numbers = list(map(int,a.split()))\n",
    "sum = 1\n",
    "for i in numbers:\n",
    "    sum *= i\n",
    "\n",
    "print(sum)"
   ]
  },
  {
   "cell_type": "code",
   "execution_count": 4,
   "id": "6d36a6e4-3e5b-4799-a8b9-b3204cf9eb1d",
   "metadata": {},
   "outputs": [
    {
     "name": "stdin",
     "output_type": "stream",
     "text": [
      "Enter numbers: 1 2 3 4 5\n"
     ]
    },
    {
     "name": "stdout",
     "output_type": "stream",
     "text": [
      "120\n"
     ]
    }
   ],
   "source": [
    "#1 second variant\n",
    "import math\n",
    "\n",
    "numbers = list(map(int, input(\"Enter numbers:\").split()))\n",
    "result = math.prod(numbers)\n",
    "\n",
    "print(result)"
   ]
  },
  {
   "cell_type": "code",
   "execution_count": 6,
   "id": "1f0b4c86-2c81-499f-a738-35b55ef96888",
   "metadata": {},
   "outputs": [
    {
     "name": "stdin",
     "output_type": "stream",
     "text": [
      "Enter string:  Hello World\n"
     ]
    },
    {
     "name": "stdout",
     "output_type": "stream",
     "text": [
      "Number of upper case letters: 2\n",
      "Number of lower case letters: 8\n"
     ]
    }
   ],
   "source": [
    "#2\n",
    "a = input(\"Enter string: \")\n",
    "upper_count = 0 \n",
    "lower_count = 0\n",
    "for i in a:\n",
    "    if i.isalpha() == False:\n",
    "        continue\n",
    "    elif i == i.upper():\n",
    "        upper_count+=1\n",
    "    else: \n",
    "        lower_count+=1\n",
    "\n",
    "print(\"Number of upper case letters:\", upper_count)\n",
    "print(\"Number of lower case letters:\", lower_count)"
   ]
  },
  {
   "cell_type": "code",
   "execution_count": 8,
   "id": "f5eaba9c-677d-4995-b305-0c1d4b30d0f2",
   "metadata": {},
   "outputs": [
    {
     "name": "stdin",
     "output_type": "stream",
     "text": [
      "Enter string: abba\n"
     ]
    },
    {
     "name": "stdout",
     "output_type": "stream",
     "text": [
      "Palindrome\n"
     ]
    }
   ],
   "source": [
    "#3\n",
    "a = input(\"Enter string:\")\n",
    "rev = ''.join(reversed(a))\n",
    "if rev == a:\n",
    "    print(\"Palindrome\")\n",
    "else:\n",
    "    print(\"Not Palindrome\")"
   ]
  },
  {
   "cell_type": "code",
   "execution_count": 10,
   "id": "ab6b40c8-174a-4238-9685-be84fb3f13ca",
   "metadata": {},
   "outputs": [
    {
     "name": "stdin",
     "output_type": "stream",
     "text": [
      "Enter number:  16\n",
      "Enter specific milliseconds:  2000\n"
     ]
    },
    {
     "name": "stdout",
     "output_type": "stream",
     "text": [
      "The square root of 16 after 2000 milliseconds is 4.0\n"
     ]
    }
   ],
   "source": [
    "#4\n",
    "import time \n",
    "import math\n",
    "\n",
    "def square_root_after_time (number,millsec):\n",
    "    x = math.sqrt(number)\n",
    "    time.sleep(millsec/1000)\n",
    "    print(f\"The square root of {int(number)} after {int(millsec)} milliseconds is {x}\")\n",
    "\n",
    "number = float(input(\"Enter number: \"))\n",
    "millsec = float(input(\"Enter specific milliseconds: \"))\n",
    "square_root_after_time(number,millsec)"
   ]
  },
  {
   "cell_type": "code",
   "execution_count": 12,
   "id": "652e37fc-0a12-45f0-a537-36dcb37b23b1",
   "metadata": {},
   "outputs": [
    {
     "name": "stdin",
     "output_type": "stream",
     "text": [
      "Enter list of 1 or 0:  1 1 1 0\n"
     ]
    },
    {
     "name": "stdout",
     "output_type": "stream",
     "text": [
      "No, not all true\n"
     ]
    }
   ],
   "source": [
    "#5\n",
    "a = input(\"Enter list of 1 or 0: \")\n",
    "booleans = tuple(map(int,a.split()))\n",
    "x = all(booleans)\n",
    "if x == True:\n",
    "    print(\"Yes, all true\")\n",
    "else:\n",
    "    print(\"No, not all true\")"
   ]
  },
  {
   "cell_type": "code",
   "execution_count": null,
   "id": "51c0e207-7adb-46f8-9820-898f509d6277",
   "metadata": {},
   "outputs": [],
   "source": []
  }
 ],
 "metadata": {
  "kernelspec": {
   "display_name": "Python [conda env:base] *",
   "language": "python",
   "name": "conda-base-py"
  },
  "language_info": {
   "codemirror_mode": {
    "name": "ipython",
    "version": 3
   },
   "file_extension": ".py",
   "mimetype": "text/x-python",
   "name": "python",
   "nbconvert_exporter": "python",
   "pygments_lexer": "ipython3",
   "version": "3.12.7"
  }
 },
 "nbformat": 4,
 "nbformat_minor": 5
}
