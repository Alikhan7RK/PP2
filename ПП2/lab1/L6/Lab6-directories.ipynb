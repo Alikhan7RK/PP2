{
 "cells": [
  {
   "cell_type": "code",
   "execution_count": 8,
   "id": "56804fbf-792f-4a40-85d4-60c288ead3de",
   "metadata": {},
   "outputs": [
    {
     "name": "stdout",
     "output_type": "stream",
     "text": [
      "['byj', 'qwprep', 'week 5', 'week11', 'week12', 'week14', 'week15', 'week7', 'week8', 'week9']\n"
     ]
    }
   ],
   "source": [
    "#1\n",
    "import os\n",
    "x = \"C:/Users/uzzer/Desktop/labpp\"\n",
    "\n",
    "print(os.listdir(x))"
   ]
  },
  {
   "cell_type": "code",
   "execution_count": 6,
   "id": "82d777bf-4542-45d0-b1ea-d9efb8649195",
   "metadata": {},
   "outputs": [
    {
     "name": "stdout",
     "output_type": "stream",
     "text": [
      "Does the path exists: True\n",
      "Access to read the file: True\n",
      "Access to write to file: True\n",
      "Can path be executed: True\n"
     ]
    }
   ],
   "source": [
    "#2 \n",
    "import os\n",
    "\n",
    "myfile = \"C:/Users/uzzer/Desktop/labpp\"\n",
    "\n",
    "path1 = os.access(myfile, os.F_OK)\n",
    "print(\"Does the path exists:\", path1)\n",
    "\n",
    "\n",
    "path2 = os.access(myfile, os.R_OK)\n",
    "print(\"Access to read the file:\", path2)\n",
    "\n",
    "\n",
    "path3 = os.access(myfile, os.W_OK)\n",
    "print(\"Access to write to file:\", path3)\n",
    "\n",
    "path4 = os.access(myfile, os.X_OK)\n",
    "print(\"Can path be executed:\", path4)"
   ]
  },
  {
   "cell_type": "code",
   "execution_count": 12,
   "id": "83f73575-34bf-4c86-8cd8-4d60418c328a",
   "metadata": {},
   "outputs": [
    {
     "name": "stdin",
     "output_type": "stream",
     "text": [
      "Enter the path to check:  C:/Users/uzzer/Desktop/labpp\n"
     ]
    },
    {
     "name": "stdout",
     "output_type": "stream",
     "text": [
      "Path exists.\n",
      "Readable: True\n",
      "Writable: True\n",
      "Executable: True\n"
     ]
    }
   ],
   "source": [
    "#2 second var\n",
    "import os\n",
    "\n",
    "path = input(\"Enter the path to check: \")\n",
    "\n",
    "if os.path.exists(path):\n",
    "    print(\"Path exists.\")\n",
    "    print(\"Readable:\", os.access(path, os.R_OK))\n",
    "    print(\"Writable:\", os.access(path, os.W_OK))\n",
    "    print(\"Executable:\", os.access(path, os.X_OK))\n",
    "else:\n",
    "    print(\"Path does not exist.\")\n"
   ]
  },
  {
   "cell_type": "code",
   "execution_count": 14,
   "id": "981a075e-4d87-4181-b251-5f2abf031051",
   "metadata": {},
   "outputs": [
    {
     "name": "stdin",
     "output_type": "stream",
     "text": [
      "Enter the path: C:/Users/uzzer/Desktop/labpp\n"
     ]
    },
    {
     "name": "stdout",
     "output_type": "stream",
     "text": [
      "file name: labpp\n",
      "directory name: C:/Users/uzzer/Desktop\n"
     ]
    }
   ],
   "source": [
    "#3\n",
    "import os\n",
    "path = input(\"Enter the path:\")\n",
    "existence = os.access(path, os.F_OK)\n",
    "if existence:\n",
    "    file_name = os.path.basename(path)\n",
    "    dir_name = os.path.dirname(path)\n",
    "    print(\"file name:\", file_name)\n",
    "    print(\"directory name:\", dir_name)\n",
    "else:\n",
    "    print(\"Given path does not exist\")"
   ]
  },
  {
   "cell_type": "code",
   "execution_count": 28,
   "id": "18d8e101-01f1-4ecf-a27f-b3f3c8f01a6c",
   "metadata": {},
   "outputs": [
    {
     "name": "stdout",
     "output_type": "stream",
     "text": [
      "6\n"
     ]
    }
   ],
   "source": [
    "#4\n",
    "f = open(\"C:/Users/uzzer/Desktop/ПП2/pp2/L6/demofile.txt\",\"r\")\n",
    "list_txt = f.readlines()\n",
    "print(len(list_txt))\n",
    "f.close()"
   ]
  },
  {
   "cell_type": "code",
   "execution_count": 46,
   "id": "b8f87e79-f6c8-4114-8dd9-5a69116d3cc6",
   "metadata": {},
   "outputs": [],
   "source": [
    "#5\n",
    "f = open(\"C:/Users/uzzer/Desktop/ПП2/pp2/L6/file.txt\",\"w\")\n",
    "txt = [123457, \"hello\", \"byebye\", False ]\n",
    "text = \"\"\n",
    "for i in txt:\n",
    "    text += str(i)+\"\\n\"\n",
    "f.write(text)\n",
    "f.close()"
   ]
  },
  {
   "cell_type": "code",
   "execution_count": 44,
   "id": "1e86a2c1-aa7c-4f9d-9397-35154ef00790",
   "metadata": {},
   "outputs": [],
   "source": [
    "#6\n",
    "number = 65\n",
    "for i in range(26):\n",
    "    f = open(f\"C:/Users/uzzer/Desktop/ПП2/pp2/L6/alphabet/{chr(number)}.txt\",\"w\")\n",
    "    number+=1\n",
    "f.close()"
   ]
  },
  {
   "cell_type": "code",
   "execution_count": 42,
   "id": "20aadeea-0deb-4300-b5b7-d6410bedecbd",
   "metadata": {},
   "outputs": [],
   "source": [
    "#7\n",
    "f = open(\"C:/Users/uzzer/Desktop/ПП2/pp2/L6/file.txt\",\"r\")\n",
    "txt = f.read()\n",
    "f.close()\n",
    "\n",
    "p = open(\"C:/Users/uzzer/Desktop/ПП2/pp2/L6/file2.txt\",'w')\n",
    "p.write(txt)\n",
    "p.close()"
   ]
  },
  {
   "cell_type": "code",
   "execution_count": 71,
   "id": "4a43ead8-41d7-4305-8ea9-bdbe13c2d652",
   "metadata": {},
   "outputs": [],
   "source": [
    "#8\n",
    "import os\n",
    "if os.path.exists(\"C:/Users/uzzer/Desktop/ПП2/pp2/L6/file3.txt\"):\n",
    "  os.remove(\"C:/Users/uzzer/Desktop/ПП2/pp2/L6/file3.txt\")\n",
    "else:\n",
    "  print(\"The file does not exist\")"
   ]
  },
  {
   "cell_type": "code",
   "execution_count": null,
   "id": "ab236ed5-d1de-4b78-854b-4de72fca46b7",
   "metadata": {},
   "outputs": [],
   "source": []
  }
 ],
 "metadata": {
  "kernelspec": {
   "display_name": "Python [conda env:base] *",
   "language": "python",
   "name": "conda-base-py"
  },
  "language_info": {
   "codemirror_mode": {
    "name": "ipython",
    "version": 3
   },
   "file_extension": ".py",
   "mimetype": "text/x-python",
   "name": "python",
   "nbconvert_exporter": "python",
   "pygments_lexer": "ipython3",
   "version": "3.12.7"
  }
 },
 "nbformat": 4,
 "nbformat_minor": 5
}
