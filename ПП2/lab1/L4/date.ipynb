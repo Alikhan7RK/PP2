{
 "cells": [
  {
   "cell_type": "code",
   "execution_count": 12,
   "id": "cc2c43e6-cd96-4bbe-89e8-faa9c8229d8d",
   "metadata": {},
   "outputs": [
    {
     "name": "stdout",
     "output_type": "stream",
     "text": [
      "Current Date: 2025-02-11\n",
      "Date 5 Days Ago: 2025-02-06\n"
     ]
    }
   ],
   "source": [
    "#1\n",
    "from datetime import datetime, timedelta\n",
    "current_date = datetime.now()\n",
    "new_date = current_date - timedelta(days=5)\n",
    "print(\"Current Date:\", current_date.strftime(\"%Y-%m-%d\"))\n",
    "print(\"Date 5 Days Ago:\", new_date.strftime(\"%Y-%m-%d\"))"
   ]
  },
  {
   "cell_type": "code",
   "execution_count": 16,
   "id": "26a3ed52-163f-4170-8123-2f28323fdba8",
   "metadata": {},
   "outputs": [
    {
     "name": "stdout",
     "output_type": "stream",
     "text": [
      "Yesterday: 2025-02-10\n",
      "Today: 2025-02-11\n",
      "Tomorrow: 2025-02-12\n"
     ]
    }
   ],
   "source": [
    "#2\n",
    "from datetime import datetime, timedelta\n",
    "today = datetime.now()\n",
    "yesterday = today - timedelta(days=1)\n",
    "tomorrow = today + timedelta(days=1)\n",
    "print(\"Yesterday:\", yesterday.strftime(\"%Y-%m-%d\"))\n",
    "print(\"Today:\", today.strftime(\"%Y-%m-%d\"))\n",
    "print(\"Tomorrow:\", tomorrow.strftime(\"%Y-%m-%d\"))\n"
   ]
  },
  {
   "cell_type": "code",
   "execution_count": 26,
   "id": "d686eb7f-ff81-41d8-adbd-445f018e62b2",
   "metadata": {},
   "outputs": [
    {
     "name": "stdout",
     "output_type": "stream",
     "text": [
      "current: 2025-02-11 15:48:06.226616\n",
      "without microseconds: 2025-02-11 15:48:06\n"
     ]
    }
   ],
   "source": [
    "#3\n",
    "from datetime import datetime\n",
    "x = datetime.now()\n",
    "y = x.replace(microsecond=0)\n",
    "print(\"current:\", x)\n",
    "print(\"without microseconds:\", y)\n"
   ]
  },
  {
   "cell_type": "code",
   "execution_count": 28,
   "id": "7acf2a2a-fc34-4f35-9062-ff2fb3b36e01",
   "metadata": {},
   "outputs": [
    {
     "name": "stdout",
     "output_type": "stream",
     "text": [
      "Date 1: 2025-02-11 14:30:00\n",
      "Date 2: 2025-02-10 12:15:00\n",
      "Difference in seconds: 94500.0\n"
     ]
    }
   ],
   "source": [
    "#4\n",
    "from datetime import datetime\n",
    "d1 = datetime(2025, 2, 11, 14, 30, 0) \n",
    "d2 = datetime(2025, 2, 10, 12, 15, 0)\n",
    "diff = d1 - d2\n",
    "diffinsec = diff.total_seconds()\n",
    "print(\"Date 1:\", d1)\n",
    "print(\"Date 2:\", d2)\n",
    "print(\"Difference in seconds:\", diffinsec)\n"
   ]
  }
 ],
 "metadata": {
  "kernelspec": {
   "display_name": "Python [conda env:base] *",
   "language": "python",
   "name": "conda-base-py"
  },
  "language_info": {
   "codemirror_mode": {
    "name": "ipython",
    "version": 3
   },
   "file_extension": ".py",
   "mimetype": "text/x-python",
   "name": "python",
   "nbconvert_exporter": "python",
   "pygments_lexer": "ipython3",
   "version": "3.12.7"
  }
 },
 "nbformat": 4,
 "nbformat_minor": 5
}
