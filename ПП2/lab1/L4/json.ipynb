{
 "cells": [
  {
   "cell_type": "code",
   "execution_count": 26,
   "id": "d7236d37-49ac-4256-a37d-2d804866444a",
   "metadata": {},
   "outputs": [
    {
     "name": "stdout",
     "output_type": "stream",
     "text": [
      "Interface Status\n",
      "================================================================================\n",
      "DN                                                 Description           Speed    MTU\n",
      "-------------------------------------------------- --------------------  ------  ------\n",
      "topology/pod-1/node-201/sys/phys-[eth1/33]                              inherit   9150\n",
      "topology/pod-1/node-201/sys/phys-[eth1/34]                              inherit   9150\n",
      "topology/pod-1/node-201/sys/phys-[eth1/35]                              inherit   9150\n"
     ]
    }
   ],
   "source": [
    "import json\n",
    "with open('sample-data.json', 'r') as file:\n",
    "    a = json.load(file)\n",
    "\n",
    "print(\"Interface Status\")\n",
    "print(\"================================================================================\")\n",
    "print(\"DN                                                 Description           Speed    MTU\")  \n",
    "print(\"-------------------------------------------------- --------------------  ------  ------\")\n",
    "\n",
    "i = 0\n",
    "\n",
    "while i != 3:\n",
    "    topology = a[\"imdata\"][i][\"l1PhysIf\"][\"attributes\"][\"dn\"]\n",
    "    speed = a[\"imdata\"][i][\"l1PhysIf\"][\"attributes\"][\"speed\"]\n",
    "    MTU = a[\"imdata\"][i][\"l1PhysIf\"][\"attributes\"][\"mtu\"]\n",
    "    print(topology,\"                            \", speed ,\" \", MTU)\n",
    "    i+=1"
   ]
  }
 ],
 "metadata": {
  "kernelspec": {
   "display_name": "Python [conda env:base] *",
   "language": "python",
   "name": "conda-base-py"
  },
  "language_info": {
   "codemirror_mode": {
    "name": "ipython",
    "version": 3
   },
   "file_extension": ".py",
   "mimetype": "text/x-python",
   "name": "python",
   "nbconvert_exporter": "python",
   "pygments_lexer": "ipython3",
   "version": "3.12.7"
  }
 },
 "nbformat": 4,
 "nbformat_minor": 5
}
