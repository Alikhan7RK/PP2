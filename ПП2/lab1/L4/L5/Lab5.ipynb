{
 "cells": [
  {
   "cell_type": "code",
   "execution_count": 32,
   "id": "4d165f91-74a2-4b77-8c43-2253ae26cc5a",
   "metadata": {},
   "outputs": [
    {
     "name": "stdin",
     "output_type": "stream",
     "text": [
      "Enter sentence:  abb\n"
     ]
    },
    {
     "name": "stdout",
     "output_type": "stream",
     "text": [
      "YES! We have a match!\n"
     ]
    }
   ],
   "source": [
    "#1\n",
    "import re\n",
    "\n",
    "txt = input(\"Enter sentence: \")\n",
    "x = re.findall(\"ab*\", txt)\n",
    "if x:\n",
    "  print(\"YES! We have a match!\")\n",
    "else:\n",
    "  print(\"No match\")"
   ]
  },
  {
   "cell_type": "code",
   "execution_count": 34,
   "id": "36870a1f-5e3c-4d98-9cff-3bf670c1c4d4",
   "metadata": {},
   "outputs": [
    {
     "name": "stdin",
     "output_type": "stream",
     "text": [
      "Enter sentence:  abbb\n"
     ]
    },
    {
     "name": "stdout",
     "output_type": "stream",
     "text": [
      "YES! We have a match!\n"
     ]
    }
   ],
   "source": [
    "#2\n",
    "import re\n",
    "\n",
    "txt = input(\"Enter sentence: \")\n",
    "x = re.findall(\"ab{2,3}\",txt)\n",
    "if x:\n",
    "  print(\"YES! We have a match!\")\n",
    "else:\n",
    "  print(\"No match\")"
   ]
  },
  {
   "cell_type": "code",
   "execution_count": 2,
   "id": "a4588427-b3dc-4513-b7e3-487c56cb8c9f",
   "metadata": {},
   "outputs": [
    {
     "name": "stdin",
     "output_type": "stream",
     "text": [
      "Enter sentence:  Ab_cd\n"
     ]
    },
    {
     "name": "stdout",
     "output_type": "stream",
     "text": [
      "['b_cd']\n"
     ]
    }
   ],
   "source": [
    "#3\n",
    "import re\n",
    "\n",
    "txt = input(\"Enter sentence: \")\n",
    "x = re.findall(\"[a-z]+_+[a-z]+\", txt)\n",
    "if x:\n",
    "    print(x)\n",
    "else:\n",
    "    print(\"No match\")"
   ]
  },
  {
   "cell_type": "code",
   "execution_count": 10,
   "id": "adbf8fe3-cfb2-4798-9883-05eaf53eea3d",
   "metadata": {},
   "outputs": [
    {
     "name": "stdin",
     "output_type": "stream",
     "text": [
      "Enter sentence:  Almaty, Alikhan, apple\n"
     ]
    },
    {
     "name": "stdout",
     "output_type": "stream",
     "text": [
      "['Almaty', 'Alikhan']\n"
     ]
    }
   ],
   "source": [
    "#4\n",
    "import re\n",
    "\n",
    "txt = input(\"Enter sentence: \")\n",
    "x = re.findall(r\"\\b[A-Z][a-z]+\\b\", txt)\n",
    "if x:\n",
    "    print(x)\n",
    "else:\n",
    "    print(\"No match\")"
   ]
  },
  {
   "cell_type": "code",
   "execution_count": 12,
   "id": "87853501-1cc3-422e-a43d-1bdd4d1ef15c",
   "metadata": {},
   "outputs": [
    {
     "name": "stdin",
     "output_type": "stream",
     "text": [
      "Enter sentence:  Bab\n"
     ]
    },
    {
     "name": "stdout",
     "output_type": "stream",
     "text": [
      "['ab']\n"
     ]
    }
   ],
   "source": [
    "#5\n",
    "import re\n",
    "\n",
    "txt = input(\"Enter sentence: \")\n",
    "x = re.findall(\"a.*b$\", txt)\n",
    "if x:\n",
    "    print(x)\n",
    "else:\n",
    "    print(\"No match\")"
   ]
  },
  {
   "cell_type": "code",
   "execution_count": 14,
   "id": "fa0056af-4531-4ece-af4d-e352caabf0ae",
   "metadata": {},
   "outputs": [
    {
     "name": "stdin",
     "output_type": "stream",
     "text": [
      "Enter sentence:  Apple, Cherry, banana\n"
     ]
    },
    {
     "name": "stdout",
     "output_type": "stream",
     "text": [
      "Apple::Cherry::banana\n"
     ]
    }
   ],
   "source": [
    "#6\n",
    "import re\n",
    "\n",
    "txt = input(\"Enter sentence: \")\n",
    "x = re.sub(r\"[ ,.]\", \":\", txt)\n",
    "if x:\n",
    "    print(x)\n",
    "else:\n",
    "    print(\"No match\")"
   ]
  },
  {
   "cell_type": "code",
   "execution_count": 16,
   "id": "d2e0ce1e-26fc-413d-96b8-ab6b2f5040a0",
   "metadata": {},
   "outputs": [
    {
     "name": "stdin",
     "output_type": "stream",
     "text": [
      "Enter sentence:  this_is_a_test\n"
     ]
    },
    {
     "name": "stdout",
     "output_type": "stream",
     "text": [
      "thisIsATest\n"
     ]
    }
   ],
   "source": [
    "#7\n",
    "import re\n",
    "\n",
    "txt = input(\"Enter sentence: \")\n",
    "x = re.sub(\"_([a-z])\", lambda match: match.group(1).upper(),txt)\n",
    "if x:\n",
    "    print(x)\n",
    "else:\n",
    "    print(\"No match\")"
   ]
  },
  {
   "cell_type": "code",
   "execution_count": 20,
   "id": "16d416a2-b6c9-41b4-9f9e-66891b9adaa7",
   "metadata": {},
   "outputs": [
    {
     "name": "stdin",
     "output_type": "stream",
     "text": [
      "Enter a string:  SplitAtUpperCase\n"
     ]
    },
    {
     "name": "stdout",
     "output_type": "stream",
     "text": [
      "Split words: ['Split', 'At', 'Upper', 'Case']\n"
     ]
    }
   ],
   "source": [
    "#8\n",
    "import re\n",
    "\n",
    "def split_at_uppercase(s):\n",
    "    return re.findall(r'[A-Z][a-z]*', s)\n",
    "\n",
    "input_string = input(\"Enter a string: \")\n",
    "split_words = split_at_uppercase(input_string)\n",
    "print(\"Split words:\", split_words)"
   ]
  },
  {
   "cell_type": "code",
   "execution_count": 22,
   "id": "77d4e170-8d1a-4776-be44-f21a50757821",
   "metadata": {},
   "outputs": [
    {
     "name": "stdin",
     "output_type": "stream",
     "text": [
      "Enter sentence:  InsertSpacesBetweenWords\n"
     ]
    },
    {
     "name": "stdout",
     "output_type": "stream",
     "text": [
      "Insert Spaces Between Words\n"
     ]
    }
   ],
   "source": [
    "#9\n",
    "import re\n",
    "\n",
    "txt = input(\"Enter sentence: \")\n",
    "x = re.sub(r\"([a-z])([A-Z])\", r\"\\1 \\2\" ,txt)\n",
    "if x:\n",
    "    print(x)\n",
    "else:\n",
    "    print(\"No match\")"
   ]
  },
  {
   "cell_type": "code",
   "execution_count": 24,
   "id": "7d85a72b-be0e-414d-9129-75fc4736359f",
   "metadata": {},
   "outputs": [
    {
     "name": "stdin",
     "output_type": "stream",
     "text": [
      "Enter sentence:  thisIsATest\n"
     ]
    },
    {
     "name": "stdout",
     "output_type": "stream",
     "text": [
      "this_is_atest\n"
     ]
    }
   ],
   "source": [
    "#10\n",
    "import re\n",
    "\n",
    "txt = input(\"Enter sentence: \")\n",
    "x = re.sub(r\"([a-z])([A-Z])\",r\"\\1_\\2\",txt).lower()\n",
    "if x:\n",
    "    print(x)\n",
    "else:\n",
    "    print(\"No match\")"
   ]
  },
  {
   "cell_type": "code",
   "execution_count": null,
   "id": "5cfe1e8c-0664-4c7d-b744-2f20e2f800cd",
   "metadata": {},
   "outputs": [],
   "source": []
  }
 ],
 "metadata": {
  "kernelspec": {
   "display_name": "Python [conda env:base] *",
   "language": "python",
   "name": "conda-base-py"
  },
  "language_info": {
   "codemirror_mode": {
    "name": "ipython",
    "version": 3
   },
   "file_extension": ".py",
   "mimetype": "text/x-python",
   "name": "python",
   "nbconvert_exporter": "python",
   "pygments_lexer": "ipython3",
   "version": "3.12.7"
  }
 },
 "nbformat": 4,
 "nbformat_minor": 5
}
