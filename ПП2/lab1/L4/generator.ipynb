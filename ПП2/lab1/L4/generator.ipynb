{
 "cells": [
  {
   "cell_type": "code",
   "execution_count": 8,
   "id": "3d1e1aa3-36b6-4ca8-a90c-e9f5fba93ace",
   "metadata": {},
   "outputs": [
    {
     "name": "stdin",
     "output_type": "stream",
     "text": [
      " 5\n"
     ]
    },
    {
     "name": "stdout",
     "output_type": "stream",
     "text": [
      "1\n",
      "4\n",
      "9\n",
      "16\n",
      "25\n"
     ]
    }
   ],
   "source": [
    "#1\n",
    "def sq(N):\n",
    "    for i in range(1, N + 1):\n",
    "        yield i ** 2\n",
    "N = int(input())\n",
    "gen = sq(N)\n",
    "for square in gen:\n",
    "    print(square)"
   ]
  },
  {
   "cell_type": "code",
   "execution_count": 6,
   "id": "bc31b547-504f-429b-89b9-def16e50ba40",
   "metadata": {},
   "outputs": [
    {
     "name": "stdin",
     "output_type": "stream",
     "text": [
      " 8\n"
     ]
    },
    {
     "name": "stdout",
     "output_type": "stream",
     "text": [
      "0,2,4,6,8\n"
     ]
    }
   ],
   "source": [
    "#2\n",
    "def ev(n):\n",
    "    for num in range(0, n + 1, 2):\n",
    "        yield num\n",
    "n = int(input())\n",
    "print(\",\".join(map(str, ev(n))))\n"
   ]
  },
  {
   "cell_type": "code",
   "execution_count": 2,
   "id": "0094b9af-bb50-45c3-a52a-66f40e316719",
   "metadata": {},
   "outputs": [
    {
     "name": "stdin",
     "output_type": "stream",
     "text": [
      " 89\n"
     ]
    },
    {
     "name": "stdout",
     "output_type": "stream",
     "text": [
      "[0, 12, 24, 36, 48, 60, 72, 84]\n"
     ]
    }
   ],
   "source": [
    "#3\n",
    "def div(n):\n",
    "    for num in range(0, n + 1):  \n",
    "        if num % 3 == 0 and num % 4 == 0:  \n",
    "            yield num  \n",
    "n = int(input())\n",
    "print(list(div(n)))\n"
   ]
  },
  {
   "cell_type": "code",
   "execution_count": 4,
   "id": "08e21892-680c-424b-9b12-8c9c6aad8ef1",
   "metadata": {},
   "outputs": [
    {
     "name": "stdin",
     "output_type": "stream",
     "text": [
      " 2\n",
      " 5\n"
     ]
    },
    {
     "name": "stdout",
     "output_type": "stream",
     "text": [
      "4\n",
      "9\n",
      "16\n",
      "25\n"
     ]
    }
   ],
   "source": [
    "#4\n",
    "def squares(a, b):\n",
    "    for num in range(a, b + 1):  \n",
    "        yield num ** 2\n",
    "a = int(input())\n",
    "b = int(input())\n",
    "\n",
    "for square in squares(a, b):\n",
    "    print(square)\n"
   ]
  },
  {
   "cell_type": "code",
   "execution_count": 18,
   "id": "977e67e1-95e5-4461-baa5-80fa516fa18b",
   "metadata": {},
   "outputs": [
    {
     "name": "stdin",
     "output_type": "stream",
     "text": [
      " 9\n"
     ]
    },
    {
     "name": "stdout",
     "output_type": "stream",
     "text": [
      "9\n",
      "8\n",
      "7\n",
      "6\n",
      "5\n",
      "4\n",
      "3\n",
      "2\n",
      "1\n",
      "0\n"
     ]
    }
   ],
   "source": [
    "#5\n",
    "def gd(n):\n",
    "    for i in range(n, 0-1, -1):\n",
    "        yield i\n",
    "\n",
    "n = int(input())\n",
    "gen = gd(n)\n",
    "for num in gen:\n",
    "    print(num)"
   ]
  },
  {
   "cell_type": "code",
   "execution_count": null,
   "id": "e1467056-88a0-46c7-bd21-ed715ca94747",
   "metadata": {},
   "outputs": [],
   "source": []
  }
 ],
 "metadata": {
  "kernelspec": {
   "display_name": "Python [conda env:base] *",
   "language": "python",
   "name": "conda-base-py"
  },
  "language_info": {
   "codemirror_mode": {
    "name": "ipython",
    "version": 3
   },
   "file_extension": ".py",
   "mimetype": "text/x-python",
   "name": "python",
   "nbconvert_exporter": "python",
   "pygments_lexer": "ipython3",
   "version": "3.12.7"
  }
 },
 "nbformat": 4,
 "nbformat_minor": 5
}
