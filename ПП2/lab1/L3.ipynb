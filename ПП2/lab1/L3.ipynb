{
 "cells": [
  {
   "cell_type": "markdown",
   "id": "657f9311-ff81-483f-9a91-cbbfc2e05b6b",
   "metadata": {},
   "source": [
    "1) class with getstring and printstring methods"
   ]
  },
  {
   "cell_type": "code",
   "execution_count": 17,
   "id": "e0c42d65-516d-4615-bec7-fc695d14773b",
   "metadata": {},
   "outputs": [
    {
     "name": "stdin",
     "output_type": "stream",
     "text": [
      "Enter a string:  hello\n"
     ]
    },
    {
     "name": "stdout",
     "output_type": "stream",
     "text": [
      "HELLO\n"
     ]
    }
   ],
   "source": [
    "class MyClass:\n",
    "    def __init__(self):\n",
    "        self.text = \"\" \n",
    "\n",
    "    def getString(self):\n",
    "        self.text = input(\"Enter a string: \")\n",
    "\n",
    "    def printString(self):\n",
    "        print(self.text.upper())\n",
    "\n",
    "obj = MyClass()\n",
    "\n",
    "obj.getString()\n",
    "obj.printString()\n"
   ]
  },
  {
   "cell_type": "code",
   "execution_count": 23,
   "id": "f38c093f-6e75-4bf6-a935-c28cb7157cb0",
   "metadata": {},
   "outputs": [
    {
     "name": "stdout",
     "output_type": "stream",
     "text": [
      "25\n",
      "0\n"
     ]
    }
   ],
   "source": [
    "class Shape:\n",
    "    def area(self):\n",
    "        return 0\n",
    "class Square(Shape):\n",
    "    def __init__(self, length):\n",
    "        self.length = length \n",
    "\n",
    "    def area(self):\n",
    "        return self.length ** 2  \n",
    "\n",
    "square = Square(5)\n",
    "print(square.area())\n",
    "\n",
    "shape = Shape()\n",
    "print(shape.area())\n"
   ]
  },
  {
   "cell_type": "code",
   "execution_count": 29,
   "id": "afb705ba-8e80-4933-a681-2392de4f9309",
   "metadata": {},
   "outputs": [
    {
     "name": "stdin",
     "output_type": "stream",
     "text": [
      " 4\n",
      " 6\n"
     ]
    },
    {
     "name": "stdout",
     "output_type": "stream",
     "text": [
      "Rectangle area: 24\n",
      "Shape area: 0\n"
     ]
    }
   ],
   "source": [
    "class Shape:\n",
    "    def area(self):\n",
    "        return 0\n",
    "\n",
    "class Rectangle(Shape): \n",
    "    def __init__(self, length, width):\n",
    "        self.length = length\n",
    "        self.width = width\n",
    "\n",
    "    def area(self):\n",
    "        return self.length * self.width\n",
    "\n",
    "l = int(input())\n",
    "w = int(input())\n",
    "rect = Rectangle(l, w)\n",
    "print(\"Rectangle area:\", rect.area())\n",
    "\n",
    "shape = Shape()\n",
    "print(\"Shape area:\", shape.area())\n"
   ]
  },
  {
   "cell_type": "code",
   "execution_count": 35,
   "id": "c5e190fc-4bc9-47ce-b211-8724a77eae0d",
   "metadata": {},
   "outputs": [
    {
     "name": "stdout",
     "output_type": "stream",
     "text": [
      "Point(3, 4)\n",
      "Point(6, 8)\n",
      "Distance: 5.0\n",
      "Point(10, 12)\n"
     ]
    }
   ],
   "source": [
    "import math\n",
    "\n",
    "class Point:\n",
    "    def __init__(self, x, y):\n",
    "        self.x = x\n",
    "        self.y = y\n",
    "\n",
    "    def show(self):\n",
    "        print(f\"Point({self.x}, {self.y})\")\n",
    "\n",
    "    def move(self, new_x, new_y):\n",
    "        self.x = new_x\n",
    "        self.y = new_y\n",
    "\n",
    "    def dist(self, other_point):\n",
    "        return math.sqrt((self.x - other_point.x) ** 2 + (self.y - other_point.y) ** 2)\n",
    "\n",
    "p1 = Point(3, 4)\n",
    "p2 = Point(6, 8)\n",
    "\n",
    "p1.show()\n",
    "p2.show()\n",
    "\n",
    "print(\"Distance:\", p1.dist(p2))\n",
    "\n",
    "p1.move(10, 12)\n",
    "p1.show()\n"
   ]
  },
  {
   "cell_type": "code",
   "execution_count": 4,
   "id": "a81967f5-b6c3-4c6a-88db-6f64ad2e679d",
   "metadata": {},
   "outputs": [
    {
     "name": "stdout",
     "output_type": "stream",
     "text": [
      "Deposit of 50 accepted. New balance: 150\n",
      "Withdrawal of 30 successful. Remaining balance: 120\n",
      "Insufficient funds or invalid amount.\n",
      "Deposit amount must be positive.\n"
     ]
    }
   ],
   "source": [
    "class Account:\n",
    "    def __init__(self, owner, balance=0):\n",
    "        self.owner = owner\n",
    "        self.balance = balance\n",
    "\n",
    "    def deposit(self, amount):\n",
    "        if amount > 0:\n",
    "            self.balance += amount\n",
    "            print(f\"Deposit of {amount} accepted. New balance: {self.balance}\")\n",
    "        else:\n",
    "            print(\"Deposit amount must be positive.\")\n",
    "\n",
    "    def withdraw(self, amount):\n",
    "        if 0 < amount <= self.balance:\n",
    "            self.balance -= amount\n",
    "            print(f\"Withdrawal of {amount} successful. Remaining balance: {self.balance}\")\n",
    "        else:\n",
    "            print(\"Insufficient funds or invalid amount.\")\n",
    "\n",
    "account = Account(\"John\", 100)\n",
    "\n",
    "account.deposit(50)\n",
    "account.withdraw(30)\n",
    "account.withdraw(200)  \n",
    "account.deposit(-10)\n"
   ]
  },
  {
   "cell_type": "code",
   "execution_count": 10,
   "id": "636e2a8d-d411-48ef-938b-e4c5f6a65d5e",
   "metadata": {},
   "outputs": [
    {
     "name": "stdin",
     "output_type": "stream",
     "text": [
      "Enter numbers separated by spaces:  4 5 7 8 9 12\n"
     ]
    },
    {
     "name": "stdout",
     "output_type": "stream",
     "text": [
      "Prime numbers: [5, 7]\n"
     ]
    }
   ],
   "source": [
    "\n",
    "is_prime = lambda n: n > 1 and all(n % i != 0 for i in range(2, int(n**0.5) + 1))\n",
    "numbers = list(map(int, input(\"Enter numbers separated by spaces: \").split()))\n",
    "prime_numbers = list(filter(is_prime, numbers))\n",
    "print(\"Prime numbers:\", prime_numbers)\n"
   ]
  },
  {
   "cell_type": "code",
   "execution_count": 18,
   "id": "7b616a32-84cf-4d2c-a5e5-a0d1c975754a",
   "metadata": {},
   "outputs": [
    {
     "name": "stdin",
     "output_type": "stream",
     "text": [
      "Enter Gramms:  100\n"
     ]
    },
    {
     "name": "stdout",
     "output_type": "stream",
     "text": [
      "2834.95\n"
     ]
    }
   ],
   "source": [
    "#1f1\n",
    "def GrammsToOun(weight):\n",
    "    ounces = weight * 28.3495231\n",
    "    print('%.2f' % ounces) \n",
    "a = int(input())\n",
    "GrammsToOun(a)"
   ]
  },
  {
   "cell_type": "code",
   "execution_count": 20,
   "id": "de30686c-af48-4c99-9e58-b7ae1dd6ec75",
   "metadata": {},
   "outputs": [
    {
     "name": "stdin",
     "output_type": "stream",
     "text": [
      "Farenheit temp:  34\n"
     ]
    },
    {
     "name": "stdout",
     "output_type": "stream",
     "text": [
      "1.11\n"
     ]
    }
   ],
   "source": [
    "#2f1\n",
    "def temp(value):\n",
    "    t = (5/9) * (value - 32)\n",
    "    print('%.2f' % t)\n",
    "a = int(input(\"Farenheit temp: \"))\n",
    "temp(a)"
   ]
  },
  {
   "cell_type": "code",
   "execution_count": 22,
   "id": "f563eb8b-6332-4ee1-b709-6f1f20b695de",
   "metadata": {},
   "outputs": [
    {
     "data": {
      "text/plain": [
       "(12, 23)"
      ]
     },
     "execution_count": 22,
     "metadata": {},
     "output_type": "execute_result"
    }
   ],
   "source": [
    "#3f1\n",
    "def solve(numheads, numlegs):\n",
    "    rabbits = (numlegs - 2*numheads)//2\n",
    "    chicken = numheads - rabbits\n",
    "    return rabbits, chicken\n",
    "solve(35, 94)"
   ]
  },
  {
   "cell_type": "code",
   "execution_count": 24,
   "id": "71fb9b78-39ea-4e14-998b-60af6b94c5b0",
   "metadata": {},
   "outputs": [
    {
     "name": "stdin",
     "output_type": "stream",
     "text": [
      " 3 5 7 8 9 10\n"
     ]
    },
    {
     "name": "stdout",
     "output_type": "stream",
     "text": [
      "[3, 5, 7]\n"
     ]
    }
   ],
   "source": [
    "#4f1\n",
    "def is_prime(n):\n",
    "    if n < 2:\n",
    "        return False\n",
    "    for i in range(2, int(n**0.5) + 1):\n",
    "        if n % i == 0:\n",
    "            return False\n",
    "    return True\n",
    "\n",
    "def filter_prime(numbers):\n",
    "    return [n for n in numbers if is_prime(n)]\n",
    "\n",
    "\n",
    "numbers = list(map(int, input().split()))\n",
    "prime_numbers = filter_prime(numbers)\n",
    "print(prime_numbers)\n"
   ]
  },
  {
   "cell_type": "code",
   "execution_count": 26,
   "id": "6e36b005-c006-4104-ba34-1726876d714b",
   "metadata": {},
   "outputs": [
    {
     "name": "stdin",
     "output_type": "stream",
     "text": [
      "Enter a string:  string\n"
     ]
    },
    {
     "name": "stdout",
     "output_type": "stream",
     "text": [
      "string\n",
      "strign\n",
      "strnig\n",
      "strngi\n",
      "strgin\n",
      "strgni\n",
      "stirng\n",
      "stirgn\n",
      "stinrg\n",
      "stingr\n",
      "stigrn\n",
      "stignr\n",
      "stnrig\n",
      "stnrgi\n",
      "stnirg\n",
      "stnigr\n",
      "stngri\n",
      "stngir\n",
      "stgrin\n",
      "stgrni\n",
      "stgirn\n",
      "stginr\n",
      "stgnri\n",
      "stgnir\n",
      "srting\n",
      "srtign\n",
      "srtnig\n",
      "srtngi\n",
      "srtgin\n",
      "srtgni\n",
      "sritng\n",
      "sritgn\n",
      "srintg\n",
      "sringt\n",
      "srigtn\n",
      "srignt\n",
      "srntig\n",
      "srntgi\n",
      "srnitg\n",
      "srnigt\n",
      "srngti\n",
      "srngit\n",
      "srgtin\n",
      "srgtni\n",
      "srgitn\n",
      "srgint\n",
      "srgnti\n",
      "srgnit\n",
      "sitrng\n",
      "sitrgn\n",
      "sitnrg\n",
      "sitngr\n",
      "sitgrn\n",
      "sitgnr\n",
      "sirtng\n",
      "sirtgn\n",
      "sirntg\n",
      "sirngt\n",
      "sirgtn\n",
      "sirgnt\n",
      "sintrg\n",
      "sintgr\n",
      "sinrtg\n",
      "sinrgt\n",
      "singtr\n",
      "singrt\n",
      "sigtrn\n",
      "sigtnr\n",
      "sigrtn\n",
      "sigrnt\n",
      "signtr\n",
      "signrt\n",
      "sntrig\n",
      "sntrgi\n",
      "sntirg\n",
      "sntigr\n",
      "sntgri\n",
      "sntgir\n",
      "snrtig\n",
      "snrtgi\n",
      "snritg\n",
      "snrigt\n",
      "snrgti\n",
      "snrgit\n",
      "snitrg\n",
      "snitgr\n",
      "snirtg\n",
      "snirgt\n",
      "snigtr\n",
      "snigrt\n",
      "sngtri\n",
      "sngtir\n",
      "sngrti\n",
      "sngrit\n",
      "sngitr\n",
      "sngirt\n",
      "sgtrin\n",
      "sgtrni\n",
      "sgtirn\n",
      "sgtinr\n",
      "sgtnri\n",
      "sgtnir\n",
      "sgrtin\n",
      "sgrtni\n",
      "sgritn\n",
      "sgrint\n",
      "sgrnti\n",
      "sgrnit\n",
      "sgitrn\n",
      "sgitnr\n",
      "sgirtn\n",
      "sgirnt\n",
      "sgintr\n",
      "sginrt\n",
      "sgntri\n",
      "sgntir\n",
      "sgnrti\n",
      "sgnrit\n",
      "sgnitr\n",
      "sgnirt\n",
      "tsring\n",
      "tsrign\n",
      "tsrnig\n",
      "tsrngi\n",
      "tsrgin\n",
      "tsrgni\n",
      "tsirng\n",
      "tsirgn\n",
      "tsinrg\n",
      "tsingr\n",
      "tsigrn\n",
      "tsignr\n",
      "tsnrig\n",
      "tsnrgi\n",
      "tsnirg\n",
      "tsnigr\n",
      "tsngri\n",
      "tsngir\n",
      "tsgrin\n",
      "tsgrni\n",
      "tsgirn\n",
      "tsginr\n",
      "tsgnri\n",
      "tsgnir\n",
      "trsing\n",
      "trsign\n",
      "trsnig\n",
      "trsngi\n",
      "trsgin\n",
      "trsgni\n",
      "trisng\n",
      "trisgn\n",
      "trinsg\n",
      "trings\n",
      "trigsn\n",
      "trigns\n",
      "trnsig\n",
      "trnsgi\n",
      "trnisg\n",
      "trnigs\n",
      "trngsi\n",
      "trngis\n",
      "trgsin\n",
      "trgsni\n",
      "trgisn\n",
      "trgins\n",
      "trgnsi\n",
      "trgnis\n",
      "tisrng\n",
      "tisrgn\n",
      "tisnrg\n",
      "tisngr\n",
      "tisgrn\n",
      "tisgnr\n",
      "tirsng\n",
      "tirsgn\n",
      "tirnsg\n",
      "tirngs\n",
      "tirgsn\n",
      "tirgns\n",
      "tinsrg\n",
      "tinsgr\n",
      "tinrsg\n",
      "tinrgs\n",
      "tingsr\n",
      "tingrs\n",
      "tigsrn\n",
      "tigsnr\n",
      "tigrsn\n",
      "tigrns\n",
      "tignsr\n",
      "tignrs\n",
      "tnsrig\n",
      "tnsrgi\n",
      "tnsirg\n",
      "tnsigr\n",
      "tnsgri\n",
      "tnsgir\n",
      "tnrsig\n",
      "tnrsgi\n",
      "tnrisg\n",
      "tnrigs\n",
      "tnrgsi\n",
      "tnrgis\n",
      "tnisrg\n",
      "tnisgr\n",
      "tnirsg\n",
      "tnirgs\n",
      "tnigsr\n",
      "tnigrs\n",
      "tngsri\n",
      "tngsir\n",
      "tngrsi\n",
      "tngris\n",
      "tngisr\n",
      "tngirs\n",
      "tgsrin\n",
      "tgsrni\n",
      "tgsirn\n",
      "tgsinr\n",
      "tgsnri\n",
      "tgsnir\n",
      "tgrsin\n",
      "tgrsni\n",
      "tgrisn\n",
      "tgrins\n",
      "tgrnsi\n",
      "tgrnis\n",
      "tgisrn\n",
      "tgisnr\n",
      "tgirsn\n",
      "tgirns\n",
      "tginsr\n",
      "tginrs\n",
      "tgnsri\n",
      "tgnsir\n",
      "tgnrsi\n",
      "tgnris\n",
      "tgnisr\n",
      "tgnirs\n",
      "rsting\n",
      "rstign\n",
      "rstnig\n",
      "rstngi\n",
      "rstgin\n",
      "rstgni\n",
      "rsitng\n",
      "rsitgn\n",
      "rsintg\n",
      "rsingt\n",
      "rsigtn\n",
      "rsignt\n",
      "rsntig\n",
      "rsntgi\n",
      "rsnitg\n",
      "rsnigt\n",
      "rsngti\n",
      "rsngit\n",
      "rsgtin\n",
      "rsgtni\n",
      "rsgitn\n",
      "rsgint\n",
      "rsgnti\n",
      "rsgnit\n",
      "rtsing\n",
      "rtsign\n",
      "rtsnig\n",
      "rtsngi\n",
      "rtsgin\n",
      "rtsgni\n",
      "rtisng\n",
      "rtisgn\n",
      "rtinsg\n",
      "rtings\n",
      "rtigsn\n",
      "rtigns\n",
      "rtnsig\n",
      "rtnsgi\n",
      "rtnisg\n",
      "rtnigs\n",
      "rtngsi\n",
      "rtngis\n",
      "rtgsin\n",
      "rtgsni\n",
      "rtgisn\n",
      "rtgins\n",
      "rtgnsi\n",
      "rtgnis\n",
      "ristng\n",
      "ristgn\n",
      "risntg\n",
      "risngt\n",
      "risgtn\n",
      "risgnt\n",
      "ritsng\n",
      "ritsgn\n",
      "ritnsg\n",
      "ritngs\n",
      "ritgsn\n",
      "ritgns\n",
      "rinstg\n",
      "rinsgt\n",
      "rintsg\n",
      "rintgs\n",
      "ringst\n",
      "ringts\n",
      "rigstn\n",
      "rigsnt\n",
      "rigtsn\n",
      "rigtns\n",
      "rignst\n",
      "rignts\n",
      "rnstig\n",
      "rnstgi\n",
      "rnsitg\n",
      "rnsigt\n",
      "rnsgti\n",
      "rnsgit\n",
      "rntsig\n",
      "rntsgi\n",
      "rntisg\n",
      "rntigs\n",
      "rntgsi\n",
      "rntgis\n",
      "rnistg\n",
      "rnisgt\n",
      "rnitsg\n",
      "rnitgs\n",
      "rnigst\n",
      "rnigts\n",
      "rngsti\n",
      "rngsit\n",
      "rngtsi\n",
      "rngtis\n",
      "rngist\n",
      "rngits\n",
      "rgstin\n",
      "rgstni\n",
      "rgsitn\n",
      "rgsint\n",
      "rgsnti\n",
      "rgsnit\n",
      "rgtsin\n",
      "rgtsni\n",
      "rgtisn\n",
      "rgtins\n",
      "rgtnsi\n",
      "rgtnis\n",
      "rgistn\n",
      "rgisnt\n",
      "rgitsn\n",
      "rgitns\n",
      "rginst\n",
      "rgints\n",
      "rgnsti\n",
      "rgnsit\n",
      "rgntsi\n",
      "rgntis\n",
      "rgnist\n",
      "rgnits\n",
      "istrng\n",
      "istrgn\n",
      "istnrg\n",
      "istngr\n",
      "istgrn\n",
      "istgnr\n",
      "isrtng\n",
      "isrtgn\n",
      "isrntg\n",
      "isrngt\n",
      "isrgtn\n",
      "isrgnt\n",
      "isntrg\n",
      "isntgr\n",
      "isnrtg\n",
      "isnrgt\n",
      "isngtr\n",
      "isngrt\n",
      "isgtrn\n",
      "isgtnr\n",
      "isgrtn\n",
      "isgrnt\n",
      "isgntr\n",
      "isgnrt\n",
      "itsrng\n",
      "itsrgn\n",
      "itsnrg\n",
      "itsngr\n",
      "itsgrn\n",
      "itsgnr\n",
      "itrsng\n",
      "itrsgn\n",
      "itrnsg\n",
      "itrngs\n",
      "itrgsn\n",
      "itrgns\n",
      "itnsrg\n",
      "itnsgr\n",
      "itnrsg\n",
      "itnrgs\n",
      "itngsr\n",
      "itngrs\n",
      "itgsrn\n",
      "itgsnr\n",
      "itgrsn\n",
      "itgrns\n",
      "itgnsr\n",
      "itgnrs\n",
      "irstng\n",
      "irstgn\n",
      "irsntg\n",
      "irsngt\n",
      "irsgtn\n",
      "irsgnt\n",
      "irtsng\n",
      "irtsgn\n",
      "irtnsg\n",
      "irtngs\n",
      "irtgsn\n",
      "irtgns\n",
      "irnstg\n",
      "irnsgt\n",
      "irntsg\n",
      "irntgs\n",
      "irngst\n",
      "irngts\n",
      "irgstn\n",
      "irgsnt\n",
      "irgtsn\n",
      "irgtns\n",
      "irgnst\n",
      "irgnts\n",
      "instrg\n",
      "instgr\n",
      "insrtg\n",
      "insrgt\n",
      "insgtr\n",
      "insgrt\n",
      "intsrg\n",
      "intsgr\n",
      "intrsg\n",
      "intrgs\n",
      "intgsr\n",
      "intgrs\n",
      "inrstg\n",
      "inrsgt\n",
      "inrtsg\n",
      "inrtgs\n",
      "inrgst\n",
      "inrgts\n",
      "ingstr\n",
      "ingsrt\n",
      "ingtsr\n",
      "ingtrs\n",
      "ingrst\n",
      "ingrts\n",
      "igstrn\n",
      "igstnr\n",
      "igsrtn\n",
      "igsrnt\n",
      "igsntr\n",
      "igsnrt\n",
      "igtsrn\n",
      "igtsnr\n",
      "igtrsn\n",
      "igtrns\n",
      "igtnsr\n",
      "igtnrs\n",
      "igrstn\n",
      "igrsnt\n",
      "igrtsn\n",
      "igrtns\n",
      "igrnst\n",
      "igrnts\n",
      "ignstr\n",
      "ignsrt\n",
      "igntsr\n",
      "igntrs\n",
      "ignrst\n",
      "ignrts\n",
      "nstrig\n",
      "nstrgi\n",
      "nstirg\n",
      "nstigr\n",
      "nstgri\n",
      "nstgir\n",
      "nsrtig\n",
      "nsrtgi\n",
      "nsritg\n",
      "nsrigt\n",
      "nsrgti\n",
      "nsrgit\n",
      "nsitrg\n",
      "nsitgr\n",
      "nsirtg\n",
      "nsirgt\n",
      "nsigtr\n",
      "nsigrt\n",
      "nsgtri\n",
      "nsgtir\n",
      "nsgrti\n",
      "nsgrit\n",
      "nsgitr\n",
      "nsgirt\n",
      "ntsrig\n",
      "ntsrgi\n",
      "ntsirg\n",
      "ntsigr\n",
      "ntsgri\n",
      "ntsgir\n",
      "ntrsig\n",
      "ntrsgi\n",
      "ntrisg\n",
      "ntrigs\n",
      "ntrgsi\n",
      "ntrgis\n",
      "ntisrg\n",
      "ntisgr\n",
      "ntirsg\n",
      "ntirgs\n",
      "ntigsr\n",
      "ntigrs\n",
      "ntgsri\n",
      "ntgsir\n",
      "ntgrsi\n",
      "ntgris\n",
      "ntgisr\n",
      "ntgirs\n",
      "nrstig\n",
      "nrstgi\n",
      "nrsitg\n",
      "nrsigt\n",
      "nrsgti\n",
      "nrsgit\n",
      "nrtsig\n",
      "nrtsgi\n",
      "nrtisg\n",
      "nrtigs\n",
      "nrtgsi\n",
      "nrtgis\n",
      "nristg\n",
      "nrisgt\n",
      "nritsg\n",
      "nritgs\n",
      "nrigst\n",
      "nrigts\n",
      "nrgsti\n",
      "nrgsit\n",
      "nrgtsi\n",
      "nrgtis\n",
      "nrgist\n",
      "nrgits\n",
      "nistrg\n",
      "nistgr\n",
      "nisrtg\n",
      "nisrgt\n",
      "nisgtr\n",
      "nisgrt\n",
      "nitsrg\n",
      "nitsgr\n",
      "nitrsg\n",
      "nitrgs\n",
      "nitgsr\n",
      "nitgrs\n",
      "nirstg\n",
      "nirsgt\n",
      "nirtsg\n",
      "nirtgs\n",
      "nirgst\n",
      "nirgts\n",
      "nigstr\n",
      "nigsrt\n",
      "nigtsr\n",
      "nigtrs\n",
      "nigrst\n",
      "nigrts\n",
      "ngstri\n",
      "ngstir\n",
      "ngsrti\n",
      "ngsrit\n",
      "ngsitr\n",
      "ngsirt\n",
      "ngtsri\n",
      "ngtsir\n",
      "ngtrsi\n",
      "ngtris\n",
      "ngtisr\n",
      "ngtirs\n",
      "ngrsti\n",
      "ngrsit\n",
      "ngrtsi\n",
      "ngrtis\n",
      "ngrist\n",
      "ngrits\n",
      "ngistr\n",
      "ngisrt\n",
      "ngitsr\n",
      "ngitrs\n",
      "ngirst\n",
      "ngirts\n",
      "gstrin\n",
      "gstrni\n",
      "gstirn\n",
      "gstinr\n",
      "gstnri\n",
      "gstnir\n",
      "gsrtin\n",
      "gsrtni\n",
      "gsritn\n",
      "gsrint\n",
      "gsrnti\n",
      "gsrnit\n",
      "gsitrn\n",
      "gsitnr\n",
      "gsirtn\n",
      "gsirnt\n",
      "gsintr\n",
      "gsinrt\n",
      "gsntri\n",
      "gsntir\n",
      "gsnrti\n",
      "gsnrit\n",
      "gsnitr\n",
      "gsnirt\n",
      "gtsrin\n",
      "gtsrni\n",
      "gtsirn\n",
      "gtsinr\n",
      "gtsnri\n",
      "gtsnir\n",
      "gtrsin\n",
      "gtrsni\n",
      "gtrisn\n",
      "gtrins\n",
      "gtrnsi\n",
      "gtrnis\n",
      "gtisrn\n",
      "gtisnr\n",
      "gtirsn\n",
      "gtirns\n",
      "gtinsr\n",
      "gtinrs\n",
      "gtnsri\n",
      "gtnsir\n",
      "gtnrsi\n",
      "gtnris\n",
      "gtnisr\n",
      "gtnirs\n",
      "grstin\n",
      "grstni\n",
      "grsitn\n",
      "grsint\n",
      "grsnti\n",
      "grsnit\n",
      "grtsin\n",
      "grtsni\n",
      "grtisn\n",
      "grtins\n",
      "grtnsi\n",
      "grtnis\n",
      "gristn\n",
      "grisnt\n",
      "gritsn\n",
      "gritns\n",
      "grinst\n",
      "grints\n",
      "grnsti\n",
      "grnsit\n",
      "grntsi\n",
      "grntis\n",
      "grnist\n",
      "grnits\n",
      "gistrn\n",
      "gistnr\n",
      "gisrtn\n",
      "gisrnt\n",
      "gisntr\n",
      "gisnrt\n",
      "gitsrn\n",
      "gitsnr\n",
      "gitrsn\n",
      "gitrns\n",
      "gitnsr\n",
      "gitnrs\n",
      "girstn\n",
      "girsnt\n",
      "girtsn\n",
      "girtns\n",
      "girnst\n",
      "girnts\n",
      "ginstr\n",
      "ginsrt\n",
      "gintsr\n",
      "gintrs\n",
      "ginrst\n",
      "ginrts\n",
      "gnstri\n",
      "gnstir\n",
      "gnsrti\n",
      "gnsrit\n",
      "gnsitr\n",
      "gnsirt\n",
      "gntsri\n",
      "gntsir\n",
      "gntrsi\n",
      "gntris\n",
      "gntisr\n",
      "gntirs\n",
      "gnrsti\n",
      "gnrsit\n",
      "gnrtsi\n",
      "gnrtis\n",
      "gnrist\n",
      "gnrits\n",
      "gnistr\n",
      "gnisrt\n",
      "gnitsr\n",
      "gnitrs\n",
      "gnirst\n",
      "gnirts\n"
     ]
    }
   ],
   "source": [
    "#5f1\n",
    "from itertools import permutations\n",
    "\n",
    "def print_permutations(input_string):\n",
    "    perm_list = permutations(input_string)\n",
    "    for perm in perm_list:\n",
    "        print(''.join(perm))\n",
    "\n",
    "user_input = input(\"Enter a string: \")\n",
    "print_permutations(user_input)"
   ]
  },
  {
   "cell_type": "code",
   "execution_count": 28,
   "id": "9fcc786f-44eb-4cdc-a5c7-72f29ebcc180",
   "metadata": {},
   "outputs": [
    {
     "name": "stdin",
     "output_type": "stream",
     "text": [
      "Sentence:  we are ready\n"
     ]
    },
    {
     "name": "stdout",
     "output_type": "stream",
     "text": [
      "ready are we "
     ]
    }
   ],
   "source": [
    "#6f1\n",
    "def naoborot(str):\n",
    "    n = str.split()\n",
    "    n.reverse()\n",
    "    for i in range(len(n)):\n",
    "        print(n[i], end = \" \")\n",
    "    \n",
    "\n",
    "string = input(\"Sentence: \")\n",
    "naoborot(string)"
   ]
  },
  {
   "cell_type": "code",
   "execution_count": 36,
   "id": "1cd1f538-aa6d-4b10-8e02-8ed93c280d3b",
   "metadata": {},
   "outputs": [
    {
     "name": "stdin",
     "output_type": "stream",
     "text": [
      "Numbers:  3 4 5 3 3\n"
     ]
    },
    {
     "name": "stdout",
     "output_type": "stream",
     "text": [
      "True\n"
     ]
    }
   ],
   "source": [
    "#7f1\n",
    "def has_33(nums):\n",
    "    for i in range(len(nums)-1):\n",
    "        if nums[i] == nums[i+1]:\n",
    "            print(True)\n",
    "            return\n",
    "    print(False)\n",
    "\n",
    "numbers = input(\"Numbers: \")\n",
    "nums_list = list(map(int, numbers.split()))\n",
    "has_33(nums_list)"
   ]
  },
  {
   "cell_type": "code",
   "execution_count": 40,
   "id": "7f887f4d-1638-4b05-ac8f-a54df32bcbf8",
   "metadata": {},
   "outputs": [
    {
     "name": "stdin",
     "output_type": "stream",
     "text": [
      "Numbers:  1 2 4 0 0 7 5\n"
     ]
    },
    {
     "name": "stdout",
     "output_type": "stream",
     "text": [
      "True\n"
     ]
    }
   ],
   "source": [
    "#8f1\n",
    "def spy_game(nums):\n",
    "    n = []\n",
    "    for i in range(len(nums)):\n",
    "        if nums[i] == 0 or nums[i] == 7:\n",
    "            n.append(nums[i])\n",
    "    \n",
    "    if n[0] == 0 and n[1] == 0 and n[2]==7:\n",
    "        print(True)\n",
    "    else:\n",
    "        print(False)\n",
    "\n",
    "\n",
    "        \n",
    "\n",
    "numbers = input(\"Numbers: \")\n",
    "nums_list = list(map(int, numbers.split()))\n",
    "spy_game(nums_list)"
   ]
  },
  {
   "cell_type": "code",
   "execution_count": 44,
   "id": "06da63b5-e0a9-45a1-b21f-a5cf531a9120",
   "metadata": {},
   "outputs": [
    {
     "name": "stdin",
     "output_type": "stream",
     "text": [
      "Enter radius:  2\n"
     ]
    },
    {
     "name": "stdout",
     "output_type": "stream",
     "text": [
      "33.49333333333333\n"
     ]
    }
   ],
   "source": [
    "#9f1\n",
    "def volume(rad):\n",
    "    v = (4/3) * 3.14 * rad**3\n",
    "    print(v)\n",
    "    \n",
    "r = int(input(\"Enter radius: \"))\n",
    "volume(r)"
   ]
  },
  {
   "cell_type": "code",
   "execution_count": 50,
   "id": "114f736f-6d59-4516-a77b-e8b7cf0fd3b9",
   "metadata": {},
   "outputs": [
    {
     "name": "stdin",
     "output_type": "stream",
     "text": [
      " 1 2 2 3 3 4 4 4\n"
     ]
    },
    {
     "name": "stdout",
     "output_type": "stream",
     "text": [
      "[1, 2, 3, 4]\n"
     ]
    }
   ],
   "source": [
    "#10f1\n",
    "def unique_elements(lst):\n",
    "    unique_list = []\n",
    "    for num in lst:\n",
    "        if num not in unique_list:\n",
    "            unique_list.append(num)\n",
    "    return unique_list\n",
    "\n",
    "# Example usage:\n",
    "numbers = input().split()\n",
    "numbers = [int(num) for num in numbers]\n",
    "print(unique_elements(numbers))"
   ]
  },
  {
   "cell_type": "code",
   "execution_count": 52,
   "id": "1423a7e2-e613-413b-88e7-c93234c3207a",
   "metadata": {},
   "outputs": [
    {
     "name": "stdin",
     "output_type": "stream",
     "text": [
      "Enter word or sentence:  12321\n"
     ]
    },
    {
     "name": "stdout",
     "output_type": "stream",
     "text": [
      "True\n"
     ]
    }
   ],
   "source": [
    "#11f1\n",
    "def palindrome(word):\n",
    "    if(word  == word[::-1]):\n",
    "        print(True)\n",
    "    else:\n",
    "        print(False)\n",
    "\n",
    "\n",
    "\n",
    "word = input(\"Enter word or sentence: \")\n",
    "palindrome(word)\n",
    "\n"
   ]
  },
  {
   "cell_type": "code",
   "execution_count": 58,
   "id": "80cc2b6f-4f12-4870-93a5-6da456616159",
   "metadata": {},
   "outputs": [
    {
     "name": "stdin",
     "output_type": "stream",
     "text": [
      " 2 4 5\n"
     ]
    },
    {
     "name": "stdout",
     "output_type": "stream",
     "text": [
      "**\n",
      "****\n",
      "*****\n"
     ]
    }
   ],
   "source": [
    "#12f1\n",
    "def histogram(lst):\n",
    "    for num in lst:\n",
    "        print('*' * num)\n",
    "\n",
    "numbers = input().split()\n",
    "numbers = [int(num) for num in numbers]\n",
    "histogram(numbers)\n"
   ]
  },
  {
   "cell_type": "code",
   "execution_count": 60,
   "id": "e7a71c10-fd8d-4872-81de-e64214ebd89a",
   "metadata": {},
   "outputs": [
    {
     "name": "stdin",
     "output_type": "stream",
     "text": [
      "Hello! What is your name? Alikhan\n"
     ]
    },
    {
     "name": "stdout",
     "output_type": "stream",
     "text": [
      "Well,Alikhan, I am thinking of a number between 1 and 20.\n"
     ]
    },
    {
     "name": "stdin",
     "output_type": "stream",
     "text": [
      "Take a guess:  20\n"
     ]
    },
    {
     "name": "stdout",
     "output_type": "stream",
     "text": [
      "Your guess is too high.\n"
     ]
    },
    {
     "name": "stdin",
     "output_type": "stream",
     "text": [
      "Take a guess:  23\n"
     ]
    },
    {
     "name": "stdout",
     "output_type": "stream",
     "text": [
      "Your guess is too high.\n"
     ]
    },
    {
     "name": "stdin",
     "output_type": "stream",
     "text": [
      "Take a guess:  12\n"
     ]
    },
    {
     "name": "stdout",
     "output_type": "stream",
     "text": [
      "Good job, Alikhan! You guessed my number in 3 guesses!\n"
     ]
    }
   ],
   "source": [
    "#13f1\n",
    "import random\n",
    "def random_number(name):\n",
    "    i = 1\n",
    "    r = random.randint(1,20)\n",
    "    while(True):\n",
    "        num = int(input(\"Take a guess: \"))\n",
    "        if num == r:\n",
    "            print(f\"Good job, {name}! You guessed my number in {i} guesses!\")\n",
    "            break\n",
    "        elif num>r:\n",
    "            print(\"Your guess is too high.\")\n",
    "            i+=1\n",
    "        else:\n",
    "            print(\"Your guess is too low\")\n",
    "            i+=1\n",
    "            \n",
    "\n",
    "a = input(\"Hello! What is your name?\")\n",
    "print(f\"Well,{a}, I am thinking of a number between 1 and 20.\")\n",
    "random_number(a)"
   ]
  },
  {
   "cell_type": "code",
   "execution_count": 72,
   "id": "992283d8-29d6-4861-b3cc-1dc822f63d30",
   "metadata": {},
   "outputs": [
    {
     "name": "stdout",
     "output_type": "stream",
     "text": [
      "Histogram Example:\n",
      "****\n",
      "*********\n",
      "*******\n",
      "\n",
      "Prime Numbers: [3, 5, 7, 11]\n"
     ]
    },
    {
     "name": "stdin",
     "output_type": "stream",
     "text": [
      "Enter word or sentence:  abba\n"
     ]
    },
    {
     "name": "stdout",
     "output_type": "stream",
     "text": [
      "True\n"
     ]
    }
   ],
   "source": [
    "#14f1\n",
    "\n",
    "print(\"Histogram Example:\")\n",
    "histogram([4, 9, 7])\n",
    "\n",
    "numbers = [10, 3, 5, 8, 7, 12, 11]\n",
    "print(\"\\nPrime Numbers:\", filter_prime(numbers))\n",
    "\n",
    "word = input(\"Enter word or sentence: \")\n",
    "palindrome(word)\n"
   ]
  },
  {
   "cell_type": "code",
   "execution_count": 74,
   "id": "b3bec2eb-0756-4df1-abbe-bc5b70f86f1f",
   "metadata": {},
   "outputs": [
    {
     "name": "stdin",
     "output_type": "stream",
     "text": [
      "Name of movie:  We Two\n"
     ]
    },
    {
     "name": "stdout",
     "output_type": "stream",
     "text": [
      "True\n"
     ]
    }
   ],
   "source": [
    "#1f2\n",
    "def is_above_5_5(movie):\n",
    "    return movie[\"imdb\"] > 5.5\n",
    "\n",
    "\n",
    "#3f2\n",
    "def genre_list(movie, category):\n",
    "    return movie[\"category\"].lower() == category.lower()\n",
    "\n",
    "\n",
    "\n",
    "movies = [\n",
    "{\n",
    "\"name\": \"Usual Suspects\", \n",
    "\"imdb\": 7.0,\n",
    "\"category\": \"Thriller\"\n",
    "},\n",
    "{\n",
    "\"name\": \"Hitman\",\n",
    "\"imdb\": 6.3,\n",
    "\"category\": \"Action\"\n",
    "},\n",
    "{\n",
    "\"name\": \"Dark Knight\",\n",
    "\"imdb\": 9.0,\n",
    "\"category\": \"Adventure\"\n",
    "},\n",
    "{\n",
    "\"name\": \"The Help\",\n",
    "\"imdb\": 8.0,\n",
    "\"category\": \"Drama\"\n",
    "},\n",
    "{\n",
    "\"name\": \"The Choice\",\n",
    "\"imdb\": 6.2,\n",
    "\"category\": \"Romance\"\n",
    "},\n",
    "{\n",
    "\"name\": \"Colonia\",\n",
    "\"imdb\": 7.4,\n",
    "\"category\": \"Romance\"\n",
    "},\n",
    "{\n",
    "\"name\": \"Love\",\n",
    "\"imdb\": 6.0,\n",
    "\"category\": \"Romance\"\n",
    "},\n",
    "{\n",
    "\"name\": \"Bride Wars\",\n",
    "\"imdb\": 5.4,\n",
    "\"category\": \"Romance\"\n",
    "},\n",
    "{\n",
    "\"name\": \"AlphaJet\",\n",
    "\"imdb\": 3.2,\n",
    "\"category\": \"War\"\n",
    "},\n",
    "{\n",
    "\"name\": \"Ringing Crime\",\n",
    "\"imdb\": 4.0,\n",
    "\"category\": \"Crime\"\n",
    "},\n",
    "{\n",
    "\"name\": \"Joking muck\",\n",
    "\"imdb\": 7.2,\n",
    "\"category\": \"Comedy\"\n",
    "},\n",
    "{\n",
    "\"name\": \"What is the name\",\n",
    "\"imdb\": 9.2,\n",
    "\"category\": \"Suspense\"\n",
    "},\n",
    "{\n",
    "\"name\": \"Detective\",\n",
    "\"imdb\": 7.0,\n",
    "\"category\": \"Suspense\"\n",
    "},\n",
    "{\n",
    "\"name\": \"Exam\",\n",
    "\"imdb\": 4.2,\n",
    "\"category\": \"Thriller\"\n",
    "},\n",
    "{\n",
    "\"name\": \"We Two\",\n",
    "\"imdb\": 7.2,\n",
    "\"category\": \"Romance\"\n",
    "}\n",
    "]\n",
    "movie_name = input(\"Name of movie: \")\n",
    "found_movie = None\n",
    "for movie in movies:\n",
    "    if movie[\"name\"].lower() == movie_name.lower():\n",
    "        found_movie = movie\n",
    "        break\n",
    "\n",
    "if found_movie:\n",
    "    print(is_above_5_5(found_movie))"
   ]
  },
  {
   "cell_type": "code",
   "execution_count": 76,
   "id": "3d90feff-dae8-49d9-aa03-08d245629b44",
   "metadata": {},
   "outputs": [
    {
     "name": "stdout",
     "output_type": "stream",
     "text": [
      "The movie Usual Suspects is above 5.5\n",
      "The movie Hitman is above 5.5\n",
      "The movie Dark Knight is above 5.5\n",
      "The movie The Help is above 5.5\n",
      "The movie The Choice is above 5.5\n",
      "The movie Colonia is above 5.5\n",
      "The movie Love is above 5.5\n",
      "The movie Joking muck is above 5.5\n",
      "The movie What is the name is above 5.5\n",
      "The movie Detective is above 5.5\n",
      "The movie We Two is above 5.5\n"
     ]
    }
   ],
   "source": [
    "#2f2\n",
    "for movie in movies:\n",
    "    if is_above_5_5(movie) == True:\n",
    "        print(f\"The movie {movie[\"name\"]} is above 5.5\")"
   ]
  },
  {
   "cell_type": "code",
   "execution_count": 82,
   "id": "8acef330-f95d-4727-ab1d-fe61afb8e73c",
   "metadata": {},
   "outputs": [
    {
     "name": "stdin",
     "output_type": "stream",
     "text": [
      "Name of category:  Suspense\n"
     ]
    },
    {
     "name": "stdout",
     "output_type": "stream",
     "text": [
      "What is the name\n",
      "Detective\n"
     ]
    }
   ],
   "source": [
    "#3f2\n",
    "def genre_list(movie, category):\n",
    "    return movie[\"category\"].lower() == category.lower()\n",
    "category_name = input(\"Name of category: \")\n",
    "for movie in movies:\n",
    "    if genre_list(movie,category_name) == True:\n",
    "        print(movie[\"name\"])\n",
    "        "
   ]
  },
  {
   "cell_type": "code",
   "execution_count": 84,
   "id": "1d741d90-c9a5-4144-99a7-f9460547d022",
   "metadata": {},
   "outputs": [
    {
     "name": "stdin",
     "output_type": "stream",
     "text": [
      "Names of movie using commas:  We Two, Exam\n"
     ]
    },
    {
     "name": "stdout",
     "output_type": "stream",
     "text": [
      "5.70\n"
     ]
    }
   ],
   "source": [
    "#4f2\n",
    "def ave_score(movie_names, all_movies):\n",
    "    total = 0 \n",
    "    count = 0\n",
    "    for name in movie_names:\n",
    "        for movie in all_movies:\n",
    "            if movie[\"name\"] == name:\n",
    "                total += movie[\"imdb\"]\n",
    "                count +=1\n",
    "    print('%.2f' % (total/count))\n",
    "\n",
    "\n",
    "names = input(\"Names of movie using commas: \")\n",
    "movies_list = names.split(\",\")\n",
    "movies_list = [movie.strip() for movie in movies_list]\n",
    "\n",
    "ave_score(movies_list, movies)"
   ]
  },
  {
   "cell_type": "code",
   "execution_count": 86,
   "id": "04971dbb-6a95-4c11-af6d-f4a051c59edc",
   "metadata": {},
   "outputs": [
    {
     "name": "stdin",
     "output_type": "stream",
     "text": [
      "Name of category:  Crime\n"
     ]
    },
    {
     "name": "stdout",
     "output_type": "stream",
     "text": [
      "4.00\n"
     ]
    }
   ],
   "source": [
    "#5f2\n",
    "def genre_ave(category):\n",
    "    total = 0\n",
    "    count = 0\n",
    "    for movie in movies:\n",
    "        if movie[\"category\"].lower() == category.lower():\n",
    "            total += movie[\"imdb\"]\n",
    "            count += 1\n",
    "    print('%.2f' % (total/count))\n",
    "\n",
    "category_name = input(\"Name of category: \")\n",
    "genre_ave(category_name)"
   ]
  },
  {
   "cell_type": "code",
   "execution_count": null,
   "id": "4dfe3cd5-01a9-4be5-a4c0-c7dfa2571bd7",
   "metadata": {},
   "outputs": [],
   "source": []
  }
 ],
 "metadata": {
  "kernelspec": {
   "display_name": "Python [conda env:base] *",
   "language": "python",
   "name": "conda-base-py"
  },
  "language_info": {
   "codemirror_mode": {
    "name": "ipython",
    "version": 3
   },
   "file_extension": ".py",
   "mimetype": "text/x-python",
   "name": "python",
   "nbconvert_exporter": "python",
   "pygments_lexer": "ipython3",
   "version": "3.12.7"
  }
 },
 "nbformat": 4,
 "nbformat_minor": 5
}
