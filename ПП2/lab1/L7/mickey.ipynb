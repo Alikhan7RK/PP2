{
 "cells": [
  {
   "cell_type": "code",
   "execution_count": 2,
   "id": "09b334a8-cef3-47ce-b4bd-814babbe0bee",
   "metadata": {},
   "outputs": [
    {
     "ename": "ModuleNotFoundError",
     "evalue": "No module named 'pygame'",
     "output_type": "error",
     "traceback": [
      "\u001b[1;31m---------------------------------------------------------------------------\u001b[0m",
      "\u001b[1;31mModuleNotFoundError\u001b[0m                       Traceback (most recent call last)",
      "Cell \u001b[1;32mIn[2], line 1\u001b[0m\n\u001b[1;32m----> 1\u001b[0m \u001b[38;5;28;01mimport\u001b[39;00m \u001b[38;5;21;01mpygame\u001b[39;00m\n\u001b[0;32m      2\u001b[0m \u001b[38;5;28;01mimport\u001b[39;00m \u001b[38;5;21;01mdatetime\u001b[39;00m\n\u001b[0;32m      3\u001b[0m \u001b[38;5;28;01mfrom\u001b[39;00m \u001b[38;5;21;01msys\u001b[39;00m \u001b[38;5;28;01mimport\u001b[39;00m exit\n",
      "\u001b[1;31mModuleNotFoundError\u001b[0m: No module named 'pygame'"
     ]
    }
   ],
   "source": [
    "import pygame\n",
    "import datetime\n",
    "from sys import exit\n",
    "\n",
    "pygame.init()\n",
    "screen = pygame.display.set_mode((1000,750))\n",
    "pygame.display.set_caption(\"Clock\")\n",
    "clock = pygame.time.Clock()\n",
    "\n",
    "clock_surface = pygame.image.load(\"C:/Users/uzzer/Downloads/clock.png\")\n",
    "left_hand_surface = pygame.image.load(\"C:/Users/uzzer/Downloads/lefthand.png\").convert_alpha()\n",
    "left_hand_origin = (505, 385) \n",
    "\n",
    "right_hand_surface = pygame.image.load(\"C:/Users/uzzer/Downloads/righthand.png\").convert_alpha()\n",
    "right_hand_origin = (500, 375)\n",
    "\n",
    "def rotate(image, angle, center):\n",
    "    rotated_image = pygame.transform.rotate(image, angle)\n",
    "    new_rect = rotated_image.get_rect(center=center)\n",
    "    return rotated_image, new_rect\n",
    "\n",
    "while True:\n",
    "    for event in pygame.event.get():\n",
    "        if pygame.QUIT == event.type:\n",
    "            pygame.quit()\n",
    "            exit()\n",
    "\n",
    "    now = datetime.datetime.now()\n",
    "    second_angle = -now.second * 6\n",
    "    minute_angle = -now.minute * 6\n",
    "\n",
    "    rotated_left_hand, left_hand_rect = rotate(left_hand_surface, second_angle, left_hand_origin)\n",
    "    rotated_right_hand, right_hand_rect = rotate(right_hand_surface, minute_angle, right_hand_origin)\n",
    "\n",
    "    screen.fill((255, 255, 255))\n",
    "    screen.blit(clock_surface, (0, 0))\n",
    "    screen.blit(rotated_left_hand, left_hand_rect)\n",
    "    screen.blit(rotated_right_hand, right_hand_rect)\n",
    "    \n",
    "    pygame.display.update()\n",
    "    clock.tick(60)\n",
    "    "
   ]
  },
  {
   "cell_type": "code",
   "execution_count": null,
   "id": "f92265a3-00d2-496d-8188-33148eb28664",
   "metadata": {},
   "outputs": [],
   "source": []
  }
 ],
 "metadata": {
  "kernelspec": {
   "display_name": "Python [conda env:base] *",
   "language": "python",
   "name": "conda-base-py"
  },
  "language_info": {
   "codemirror_mode": {
    "name": "ipython",
    "version": 3
   },
   "file_extension": ".py",
   "mimetype": "text/x-python",
   "name": "python",
   "nbconvert_exporter": "python",
   "pygments_lexer": "ipython3",
   "version": "3.12.7"
  }
 },
 "nbformat": 4,
 "nbformat_minor": 5
}
